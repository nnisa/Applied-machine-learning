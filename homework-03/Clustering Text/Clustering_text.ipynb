{
 "cells": [
  {
   "cell_type": "code",
   "execution_count": 81,
   "metadata": {},
   "outputs": [
    {
     "data": {
      "text/plain": [
       "(1373, 5476)"
      ]
     },
     "execution_count": 81,
     "metadata": {},
     "output_type": "execute_result"
    }
   ],
   "source": [
    "import numpy as np\n",
    "import pandas as pd\n",
    "import random\n",
    "import matplotlib.pyplot as plt\n",
    "from sklearn.cluster import KMeans\n",
    "from sklearn import metrics\n",
    "from scipy.spatial.distance import cdist\n",
    "\n",
    "science2k_doc_word = np.load(\"science2k-doc-word.npy\")\n",
    "science2k_word_doc = np.load(\"science2k-word-doc.npy\")\n",
    "science2k_vocab = open(\"science2k-vocab.txt\")\n",
    "vocabs = [line[:-1] for line in science2k_vocab]\n",
    "science2k_titles = open(\"science2k-titles.txt\")\n",
    "titles = [line[:-1] for line in science2k_titles]\n",
    "\n",
    "science2k_doc_word.shape\n"
   ]
  },
  {
   "cell_type": "markdown",
   "metadata": {},
   "source": [
    "a) cluster for doc-word"
   ]
  },
  {
   "cell_type": "code",
   "execution_count": 111,
   "metadata": {},
   "outputs": [
    {
     "data": {
      "text/plain": [
       "(1373, 5476)"
      ]
     },
     "execution_count": 111,
     "metadata": {},
     "output_type": "execute_result"
    }
   ],
   "source": [
    "science2k_doc_word.shape"
   ]
  },
  {
   "cell_type": "markdown",
   "metadata": {},
   "source": [
    "2(a)"
   ]
  },
  {
   "cell_type": "code",
   "execution_count": 83,
   "metadata": {},
   "outputs": [
    {
     "name": "stdout",
     "output_type": "stream",
     "text": [
      "KMeans(algorithm='auto', copy_x=True, init='k-means++', max_iter=300,\n",
      "    n_clusters=1, n_init=10, n_jobs=1, precompute_distances='auto',\n",
      "    random_state=None, tol=0.0001, verbose=0)\n",
      "KMeans(algorithm='auto', copy_x=True, init='k-means++', max_iter=300,\n",
      "    n_clusters=2, n_init=10, n_jobs=1, precompute_distances='auto',\n",
      "    random_state=None, tol=0.0001, verbose=0)\n",
      "KMeans(algorithm='auto', copy_x=True, init='k-means++', max_iter=300,\n",
      "    n_clusters=3, n_init=10, n_jobs=1, precompute_distances='auto',\n",
      "    random_state=None, tol=0.0001, verbose=0)\n",
      "KMeans(algorithm='auto', copy_x=True, init='k-means++', max_iter=300,\n",
      "    n_clusters=4, n_init=10, n_jobs=1, precompute_distances='auto',\n",
      "    random_state=None, tol=0.0001, verbose=0)\n",
      "KMeans(algorithm='auto', copy_x=True, init='k-means++', max_iter=300,\n",
      "    n_clusters=5, n_init=10, n_jobs=1, precompute_distances='auto',\n",
      "    random_state=None, tol=0.0001, verbose=0)\n",
      "KMeans(algorithm='auto', copy_x=True, init='k-means++', max_iter=300,\n",
      "    n_clusters=6, n_init=10, n_jobs=1, precompute_distances='auto',\n",
      "    random_state=None, tol=0.0001, verbose=0)\n",
      "KMeans(algorithm='auto', copy_x=True, init='k-means++', max_iter=300,\n",
      "    n_clusters=7, n_init=10, n_jobs=1, precompute_distances='auto',\n",
      "    random_state=None, tol=0.0001, verbose=0)\n",
      "KMeans(algorithm='auto', copy_x=True, init='k-means++', max_iter=300,\n",
      "    n_clusters=8, n_init=10, n_jobs=1, precompute_distances='auto',\n",
      "    random_state=None, tol=0.0001, verbose=0)\n",
      "KMeans(algorithm='auto', copy_x=True, init='k-means++', max_iter=300,\n",
      "    n_clusters=9, n_init=10, n_jobs=1, precompute_distances='auto',\n",
      "    random_state=None, tol=0.0001, verbose=0)\n",
      "KMeans(algorithm='auto', copy_x=True, init='k-means++', max_iter=300,\n",
      "    n_clusters=10, n_init=10, n_jobs=1, precompute_distances='auto',\n",
      "    random_state=None, tol=0.0001, verbose=0)\n",
      "KMeans(algorithm='auto', copy_x=True, init='k-means++', max_iter=300,\n",
      "    n_clusters=11, n_init=10, n_jobs=1, precompute_distances='auto',\n",
      "    random_state=None, tol=0.0001, verbose=0)\n",
      "KMeans(algorithm='auto', copy_x=True, init='k-means++', max_iter=300,\n",
      "    n_clusters=12, n_init=10, n_jobs=1, precompute_distances='auto',\n",
      "    random_state=None, tol=0.0001, verbose=0)\n",
      "KMeans(algorithm='auto', copy_x=True, init='k-means++', max_iter=300,\n",
      "    n_clusters=13, n_init=10, n_jobs=1, precompute_distances='auto',\n",
      "    random_state=None, tol=0.0001, verbose=0)\n",
      "KMeans(algorithm='auto', copy_x=True, init='k-means++', max_iter=300,\n",
      "    n_clusters=14, n_init=10, n_jobs=1, precompute_distances='auto',\n",
      "    random_state=None, tol=0.0001, verbose=0)\n",
      "KMeans(algorithm='auto', copy_x=True, init='k-means++', max_iter=300,\n",
      "    n_clusters=15, n_init=10, n_jobs=1, precompute_distances='auto',\n",
      "    random_state=None, tol=0.0001, verbose=0)\n",
      "KMeans(algorithm='auto', copy_x=True, init='k-means++', max_iter=300,\n",
      "    n_clusters=16, n_init=10, n_jobs=1, precompute_distances='auto',\n",
      "    random_state=None, tol=0.0001, verbose=0)\n",
      "KMeans(algorithm='auto', copy_x=True, init='k-means++', max_iter=300,\n",
      "    n_clusters=17, n_init=10, n_jobs=1, precompute_distances='auto',\n",
      "    random_state=None, tol=0.0001, verbose=0)\n",
      "KMeans(algorithm='auto', copy_x=True, init='k-means++', max_iter=300,\n",
      "    n_clusters=18, n_init=10, n_jobs=1, precompute_distances='auto',\n",
      "    random_state=None, tol=0.0001, verbose=0)\n",
      "KMeans(algorithm='auto', copy_x=True, init='k-means++', max_iter=300,\n",
      "    n_clusters=19, n_init=10, n_jobs=1, precompute_distances='auto',\n",
      "    random_state=None, tol=0.0001, verbose=0)\n",
      "KMeans(algorithm='auto', copy_x=True, init='k-means++', max_iter=300,\n",
      "    n_clusters=20, n_init=10, n_jobs=1, precompute_distances='auto',\n",
      "    random_state=None, tol=0.0001, verbose=0)\n"
     ]
    }
   ],
   "source": [
    "#Running kMeans along with elbow to figure out optimum K [https://pythonprogramminglanguage.com/kmeans-elbow-method/]\n",
    "distortions = [] \n",
    "k_range = range(1,21)\n",
    "for i in k_range:\n",
    "    kmeans = KMeans(n_clusters=i).fit(science2k_doc_word)\n",
    "    y_kmeans = kmeans.predict(science2k_doc_word)\n",
    "    distortions.append(sum(np.min(cdist(science2k_doc_word, kmeans.cluster_centers_, 'euclidean'), axis=1)) / science2k_doc_word.shape[0])\n",
    "    print(kmeans)"
   ]
  },
  {
   "cell_type": "code",
   "execution_count": 84,
   "metadata": {},
   "outputs": [
    {
     "data": {
      "image/png": "[encoded data removed]",
      "text/plain": [
       "<matplotlib.figure.Figure at 0x15b53cfd0>"
      ]
     },
     "metadata": {},
     "output_type": "display_data"
    }
   ],
   "source": [
    "# Plot the elbow\n",
    "plt.plot(k_range, distortions, 'bx-')\n",
    "plt.xlabel('k_range')\n",
    "plt.ylabel('Distortion')\n",
    "plt.title('The Elbow Method showing the optimal k')\n",
    "plt.show()"
   ]
  },
  {
   "cell_type": "code",
   "execution_count": 132,
   "metadata": {},
   "outputs": [
    {
     "name": "stdout",
     "output_type": "stream",
     "text": [
      "1373\n",
      "[997, 968, 541, 1314, 983, 767, 370, 704, 1000, 1032]\n",
      "['\"Requirement of NAD and SIR2 for Life-Span Extension by Calorie Restriction in Saccharomyces Cerevisiae\"', '\"Suppression of Mutations in Mitochondrial DNA by tRNAs Imported from the Cytoplasm\"', '\"Distinct Classes of Yeast Promoters Revealed by Differential TAF Recruitment\"', '\"Efficient Initiation of HCV RNA Replication in Cell Culture\"', '\"Ubiquitination: More Than Two to Tango\"', '\"Negative Regulation of the SHATTERPROOF Genes by FRUITFULL during Arabidopsis Fruit Development\"', '\"T Cell-Independent Rescue of B Lymphocytes from Peripheral Immune Tolerance\"', '\"Reduced Food Intake and Body Weight in Mice Treated with Fatty Acid Synthase Inhibitors\"', '\"Patterning of the Zebrafish Retina by a Wave of Sonic Hedgehog Activity\"', '\"Active Remodeling of Somatic Nuclei in Egg Cytoplasm by the Nucleosomal ATPase ISWI\"']\n"
     ]
    }
   ],
   "source": [
    "#Optimal K for this dataset is k=3\n",
    "first_optimum_kmeans = KMeans(n_clusters=3).fit(science2k_doc_word)\n",
    "first_optimum_y_kmeans = first_optimum_kmeans.predict(science2k_doc_word)\n",
    "first_optimum_centroids = first_optimum_kmeans.cluster_centers_  \n",
    "print (len(first_optimum_y_kmeans))\n",
    "\n",
    "\n",
    "### TOP TEN VALUE FOR FIRST CLUSTER\n",
    "#stores indexes of doc which belongs to first cluster \n",
    "first_cluster = np.array([i for i, val in enumerate(first_optimum_y_kmeans) if val == 0])\n",
    "#take the values for each index perform euclidean distance and sort them \n",
    "distances_first_cluster = np.argsort(np.array([np.linalg.norm(first_optimum_centroids[0]- science2k_doc_word[i]) for i in first_cluster]))\n",
    "\n",
    "top_ten_first_cluster = [first_cluster[i] for i in distances_first_cluster[:10]]\n",
    "print (top_ten_first_cluster)\n",
    "\n",
    "first_cluster_top10_titles = [titles[i] for i in top_ten_first_cluster]\n",
    "print (first_cluster_top10_titles)"
   ]
  },
  {
   "cell_type": "code",
   "execution_count": 133,
   "metadata": {},
   "outputs": [
    {
     "name": "stdout",
     "output_type": "stream",
     "text": [
      "[1281, 139, 1283, 724, 587, 797, 1227, 715, 159, 1359]\n",
      "['\"The Formation of Chondrules at High Gas Pressures in the Solar Nebula\"', '\"Population Dynamical Consequences of Climate Change for a Small Temperate Songbird\"', '\"Nitric Acid Trihydrate (NAT) in Polar Stratospheric Clouds\"', '\"Subducted Seamount Imaged in the Rupture Zone of the 1946 Nankaido Earthquake\"', '\"A Monoclinic Post-Stishovite Polymorph of Silica in the Shergotty Meteorite\"', '\"Synthesis and Characterization of Helical Multi-Shell Gold Nanowires\"', '\"Crossing the Hopf Bifurcation in a Live Predator-Prey System\"', '\"Earth\\'s Enigmatic Interface\"', '\"Ambipolar Pentacene Field-Effect Transistors and Inverters\"', '\"Reconstruction of the Amazon Basin Effective Moisture Availability over the past 14,000 Years\"']\n"
     ]
    }
   ],
   "source": [
    "### TOP TEN VALUE FOR SECOND CLUSTER [2]\n",
    "#stores indexes of doc which belongs to first cluster \n",
    "second_cluster = np.array([i for i, val in enumerate(first_optimum_y_kmeans) if val == 1])\n",
    "#take the values for each index perform euclidean distance and sort them \n",
    "distances_second_cluster = np.argsort(np.array([np.linalg.norm(first_optimum_centroids[1]- science2k_doc_word[i]) for i in second_cluster]))\n",
    "\n",
    "top_ten_second_cluster = [second_cluster[i] for i in distances_second_cluster[:10]]\n",
    "print (top_ten_second_cluster)\n",
    "\n",
    "second_cluster_top10_titles = [titles[i] for i in top_ten_second_cluster]\n",
    "print (second_cluster_top10_titles)"
   ]
  },
  {
   "cell_type": "code",
   "execution_count": 134,
   "metadata": {},
   "outputs": [
    {
     "name": "stdout",
     "output_type": "stream",
     "text": [
      "[519, 574, 90, 302, 122, 123, 124, 431, 73, 489]\n",
      "['\"Algorithmic Gladiators Vie for Digital Glory\"', '\"Reopening the Darkest Chapter in German Science\"', '\"Heretical Idea Faces Its Sternest Test\"', '\"Thermal, Catalytic, Regiospecific Functionalization of Alkanes\"', '\"Corrections and Clarifications: A Short Fe-Fe Distance in Peroxodiferric Ferritin: Control of Fe Substrate versus Cofactor Decay?\"', '\"Corrections and Clarifications: Charon\\'s First Detailed Spectra Hold Many Surprises\"', '\"Corrections and Clarifications: Unearthing Monuments of the Yarmukians\"', '\"Movement Patterns in Spoken Language\"', '\"Information Storage and Retrieval through Quantum Phase\"', '\"Homogenization of Fish Faunas across the United States\"']\n"
     ]
    }
   ],
   "source": [
    "### TOP TEN VALUE FOR SECOND CLUSTER [3]\n",
    "#stores indexes of doc which belongs to first cluster \n",
    "third_cluster = np.array([i for i, val in enumerate(first_optimum_y_kmeans) if val == 2])\n",
    "#take the values for each index perform euclidean distance and sort them \n",
    "distances_third_cluster = np.argsort(np.array([np.linalg.norm(first_optimum_centroids[1]- science2k_doc_word[i]) for i in third_cluster]))\n",
    "\n",
    "top_ten_third_cluster = [third_cluster[i] for i in distances_third_cluster[:10]]\n",
    "print (top_ten_third_cluster)\n",
    "\n",
    "third_cluster_top10_titles = [titles[i] for i in top_ten_third_cluster]\n",
    "print (third_cluster_top10_titles)"
   ]
  },
  {
   "cell_type": "markdown",
   "metadata": {},
   "source": [
    "2(b)"
   ]
  },
  {
   "cell_type": "code",
   "execution_count": 106,
   "metadata": {},
   "outputs": [
    {
     "data": {
      "image/png": "[encoded data removed]",
      "text/plain": [
       "<matplotlib.figure.Figure at 0x164386ef0>"
      ]
     },
     "metadata": {},
     "output_type": "display_data"
    }
   ],
   "source": [
    "#Running kMeans along with elbow to figure out optimum K [https://pythonprogramminglanguage.com/kmeans-elbow-method/]\n",
    "distortions_b = [] \n",
    "k_range_b = range(1,21)\n",
    "for i in k_range:\n",
    "    kmeans_b = KMeans(n_clusters=i).fit(science2k_word_doc)\n",
    "    y_kmeans_b = kmeans_b.predict(science2k_word_doc)\n",
    "    distortions_b.append(sum(np.min(cdist(science2k_word_doc, kmeans_b.cluster_centers_, 'euclidean'), axis=1)) / science2k_word_doc.shape[0])\n",
    "    \n",
    "# Plot the elbow\n",
    "plt.plot(k_range_b, distortions_b, 'bx-')\n",
    "plt.xlabel('k_range')\n",
    "plt.ylabel('Distortion')\n",
    "plt.title('The Elbow Method showing the optimal k')\n",
    "plt.show()"
   ]
  },
  {
   "cell_type": "code",
   "execution_count": 122,
   "metadata": {},
   "outputs": [
    {
     "name": "stdout",
     "output_type": "stream",
     "text": [
      "5476\n",
      "0\n",
      "['correspondence', 'addressed', 'email', 'fig', 'reports', 'shown', 'indicated', 'respectively', 'observed', 'indicate']\n",
      "1\n",
      "['vol', 'sciencemag', 'org', 'end', 'science', 'rory', 'src42a', 'prpc', 'ist2p', 'calcyon']\n",
      "2\n",
      "['finished', 'trust', 'campaign', 'security', 'geneticist', 'pace', 'tech', 'vulnerable', 'raising', 'grew']\n",
      "3\n",
      "['www', 'start', 'dispersion', 'amplitudes', 'negligible', 'approximate', 'photon', 'simulated', 'lattice', 'finite']\n",
      "4\n",
      "['immunoblotting', 'tris', 'polyacrylamide', 'immunoprecipitated', 'biophys', 'lysates', 'plasmids', 'saline', 'immunoblot', 'assayed']\n"
     ]
    }
   ],
   "source": [
    "#Optimal K for this dataset is k=5\n",
    "second_optimum_kmeans = KMeans(n_clusters=5).fit(science2k_word_doc)\n",
    "second_optimum_y_kmeans = second_optimum_kmeans.predict(science2k_word_doc)\n",
    "second_optimum_centroids = second_optimum_kmeans.cluster_centers_  \n",
    "print (len(second_optimum_y_kmeans))\n",
    "\n",
    "### TOP TEN VALUE FOR FIRST CLUSTERS\n",
    "\n",
    "for cluster_num in range (0,5):\n",
    "    cluster = np.array([i for i, val in enumerate(second_optimum_y_kmeans) if val == cluster_num])\n",
    "    #take the values for each index perform euclidean distance and sort them \n",
    "    distances_cluster = np.argsort(np.array([np.linalg.norm(second_optimum_centroids[0]- science2k_word_doc[i]) for i in cluster]))\n",
    "\n",
    "    top_ten_cluster = [cluster[i] for i in distances_cluster[:10]]\n",
    "\n",
    "    cluster_top10_titles = [vocabs[i] for i in top_ten_cluster]\n",
    "    print (cluster_num)\n",
    "    print (cluster_top10_titles)\n"
   ]
  },
  {
   "cell_type": "code",
   "execution_count": null,
   "metadata": {
    "collapsed": true
   },
   "outputs": [],
   "source": []
  }
 ],
 "metadata": {
  "kernelspec": {
   "display_name": "Python 3",
   "language": "python",
   "name": "python3"
  },
  "language_info": {
   "codemirror_mode": {
    "name": "ipython",
    "version": 3
   },
   "file_extension": ".py",
   "mimetype": "text/x-python",
   "name": "python",
   "nbconvert_exporter": "python",
   "pygments_lexer": "ipython3",
   "version": "3.6.1"
  }
 },
 "nbformat": 4,
 "nbformat_minor": 2
}
