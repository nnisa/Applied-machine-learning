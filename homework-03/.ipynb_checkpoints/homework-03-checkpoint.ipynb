{
 "cells": [
  {
   "cell_type": "code",
   "execution_count": 17,
   "metadata": {},
   "outputs": [],
   "source": [
    "import numpy as np\n",
    "import pandas as pd\n",
    "import random\n",
    "import matplotlib.pyplot as plt\n",
    "from scipy.stats import multivariate_normal\n",
    "from sklearn.cluster import KMeans\n",
    "\n",
    "\n",
    "dataset = pd.read_csv('faithful.csv')\n"
   ]
  },
  {
   "cell_type": "raw",
   "metadata": {},
   "source": [
    "# (b) Parse and plot datapoints"
   ]
  },
  {
   "cell_type": "code",
   "execution_count": 18,
   "metadata": {},
   "outputs": [
    {
     "data": {
      "image/png": "[encoded data removed]",
      "text/plain": [
       "<matplotlib.figure.Figure at 0x11364c4e0>"
      ]
     },
     "metadata": {},
     "output_type": "display_data"
    }
   ],
   "source": [
    "eruptions = []\n",
    "waiting = []\n",
    "\n",
    "for index, row in dataset.iterrows():\n",
    "    words = str(row).split()\n",
    "    eruptions.append(float(words[3]))\n",
    "    waiting.append(int(words[4]))          \n",
    "# print (waiting)\n",
    "# print (eruptions)\n",
    "\n",
    "\n",
    "norm_eruptions = []\n",
    "norm_waiting = []\n",
    "\n",
    "eruptions_max = max(eruptions)\n",
    "eruptions_min = min(eruptions)\n",
    "waiting_max = max(waiting)\n",
    "waiting_min = min(waiting)\n",
    "\n",
    "for x in eruptions:\n",
    "    value = (x-eruptions_min)/(eruptions_max-eruptions_min)\n",
    "    norm_eruptions.append(value)\n",
    "    \n",
    "for x in waiting:\n",
    "    value = (x-waiting_min)/(waiting_max-waiting_min)\n",
    "    norm_waiting.append(value)\n",
    "\n",
    "    \n",
    "plt.scatter(norm_eruptions, norm_waiting)\n",
    "#plt.axis([0, 1, 0, 1])\n",
    "plt.xlabel('eruptions')\n",
    "plt.ylabel('waiting')\n",
    "plt.show()"
   ]
  },
  {
   "cell_type": "markdown",
   "metadata": {},
   "source": [
    "EM Algorithm for Two-component Gaussian Mixture (Page 275)"
   ]
  },
  {
   "cell_type": "code",
   "execution_count": 19,
   "metadata": {},
   "outputs": [],
   "source": [
    "#initial guesses\n",
    "#turning list into matrix [https://stackoverflow.com/questions/41468116/python-how-to-combine-two-flat-lists-into-a-2d-array]\n",
    "matrix = [0.0,0.0]\n",
    "matrix = np.array(list(zip(norm_eruptions, norm_waiting)))\n",
    "first_mean, second_mean, first_cov, second_cov, phi = [0.0, 0.0], [0.0, 0.0], [[0.0, 0.0],[0.0, 0.0]], [[0.0, 0.0],[0.0, 0.0]], 0.0\n",
    "\n",
    "def random_init():\n",
    "    global first_mean, second_mean, first_cov, second_cov, phi, mean_1x, mean_1y,mean_2x, mean_2y,index_1, index_2\n",
    "    first_mean = np.mean(matrix, axis=0)+(random.random())\n",
    "    second_mean = np.mean(matrix, axis=0)+(random.random())\n",
    "\n",
    "    first_cov = [[random.random(), 0],[0, random.random()]]\n",
    "    second_cov = [[random.random(), 0],[0, random.random()]]\n",
    "\n",
    "    phi = random.random()\n",
    "    \n",
    "    mean_1x =[] \n",
    "    mean_1y =[] \n",
    "    mean_2x =[] \n",
    "    mean_2y =[] \n",
    "    \n",
    "    index_1 = 0\n",
    "    index_2 = 0\n"
   ]
  },
  {
   "cell_type": "markdown",
   "metadata": {},
   "source": [
    "Expectation Step: compute the responsibilities"
   ]
  },
  {
   "cell_type": "code",
   "execution_count": 20,
   "metadata": {},
   "outputs": [],
   "source": [
    "#getting pdf for the matrixto run the equation \n",
    "def calculate_pdf ():\n",
    "    global pdf_one, pdf_two, first_mean, first_cov, second_mean, second_cov\n",
    "    pdf_one = multivariate_normal.pdf(matrix, first_mean, first_cov);\n",
    "    pdf_two = multivariate_normal.pdf(matrix, second_mean, second_cov);\n",
    "\n",
    "responsibility = [0.0]*len(matrix)\n",
    "\n",
    "def expectation_step ():\n",
    "    for i in range(len(matrix)):\n",
    "        numerator = phi * pdf_two[i]\n",
    "        denominator = ((1 - phi) * pdf_one[i]) + (phi*pdf_two[i])\n",
    "        responsibility [i] = numerator/denominator\n",
    "    \n",
    "    "
   ]
  },
  {
   "cell_type": "markdown",
   "metadata": {},
   "source": [
    "Maximization Step:"
   ]
  },
  {
   "cell_type": "code",
   "execution_count": 21,
   "metadata": {
    "collapsed": true
   },
   "outputs": [],
   "source": [
    "#replacing values first_mean\n",
    "\n",
    "def value_first_mean ():\n",
    "    global first_mean\n",
    "    numerators = [0.0]*len(matrix)\n",
    "    denominators = [0.0]*len(matrix)\n",
    "    for i in range(len(matrix)):\n",
    "        numerators [i] = (1. - responsibility[i]) * matrix[i]\n",
    "        denominators [i] = (1. - responsibility[i])\n",
    "    numerator_value = sum(numerators)\n",
    "    denominator_value = sum(denominators)\n",
    "    \n",
    "    first_mean = numerator_value/denominator_value\n",
    "    return first_mean\n",
    "\n",
    "def value_second_mean ():\n",
    "    global second_mean\n",
    "    numerators = [0.0]*len(matrix)\n",
    "    denominators = [0.0]*len(matrix)\n",
    "    for i in range(len(matrix)):\n",
    "        numerators [i] = responsibility[i] * matrix[i]\n",
    "        denominators [i] = responsibility[i]\n",
    "    numerator_value = sum(numerators)\n",
    "    denominator_value = sum(denominators)\n",
    "    second_mean = numerator_value/denominator_value\n",
    "\n",
    "\n",
    "def value_first_cov ():\n",
    "    global first_cov\n",
    "    numerators = [0.0]*len(matrix)\n",
    "    denominators = [0.0]*len(matrix)\n",
    "    for i in range(len(matrix)):\n",
    "        numerators [i] = (1 - responsibility[i]) * (matrix[i] - first_mean)**2\n",
    "        denominators [i] = (1 - responsibility[i])\n",
    "    numerator_value = sum(numerators)\n",
    "    denominator_value = sum(denominators)\n",
    "    first_cov = numerator_value/denominator_value\n",
    "    first_cov = np.mean(first_cov)*np.identity(2)\n",
    "    \n",
    "\n",
    "def value_second_cov ():\n",
    "    global second_cov\n",
    "    numerators = [0.0]*len(matrix)\n",
    "    denominators = [0.0]*len(matrix)\n",
    "    for i in range(len(matrix)):\n",
    "        numerators [i] = responsibility[i] * (matrix[i] - second_mean)**2\n",
    "        denominators [i] = responsibility[i]\n",
    "    numerator_value = sum(numerators)\n",
    "    denominator_value = sum(denominators)\n",
    "    second_cov = numerator_value/denominator_value\n",
    "    second_cov = np.mean(second_cov)*np.identity(2)\n",
    "\n",
    "\n",
    "def maximize_step():\n",
    "    value_first_mean ()\n",
    "    value_second_mean ()\n",
    "    value_first_cov ()\n",
    "    value_second_cov ()\n",
    "    \n",
    "def value_phi ():\n",
    "    phi = sum(responsibility)/len(matrix)"
   ]
  },
  {
   "cell_type": "markdown",
   "metadata": {},
   "source": [
    "Iteration of Steps"
   ]
  },
  {
   "cell_type": "code",
   "execution_count": 22,
   "metadata": {},
   "outputs": [],
   "source": [
    "mean_1x = [] \n",
    "mean_1y = [] \n",
    "mean_2x = []\n",
    "mean_2y = []\n",
    "index_1 = 0\n",
    "index_2 = 0\n",
    "\n",
    "def check_convergence ():\n",
    "    global mean_1x, mean_1y, mean_2x, mean_2y, index_1, index_2\n",
    "    \n",
    "    \n",
    "    for i in range(len(mean_1x)-1):\n",
    "        if abs(mean_1x[i] - mean_1x[i+1]) < 0.00001 and abs(mean_1y[i] == mean_1y[i+1]) < 0.00001:\n",
    "            index_1 += 1  \n",
    "        if abs(mean_2x[i] == mean_2x[i+1]) < 0.00001 and abs(mean_2y[i] == mean_2y[i+1]) < 0.00001:\n",
    "            index_2 += 1\n",
    "    if index_1 >= 3 and index_2 >= 3:\n",
    "        return False\n",
    "    else:\n",
    "        return True \n",
    "    \n",
    "    \n",
    "number_iteration = []\n",
    "def run_GMM (val):\n",
    "    global mean_1x, mean_1y, mean_2x, mean_2y, first_mean, second_mean\n",
    "    \n",
    "    if val ==1:\n",
    "        random_init()\n",
    "    else: \n",
    "        kmean_init()\n",
    "    \n",
    "    \n",
    "    index = 0\n",
    "    \n",
    "    while check_convergence():\n",
    "        mean_1x.append(first_mean[0]) \n",
    "        mean_1y.append(first_mean[1])\n",
    "        mean_2x.append(second_mean[0])\n",
    "        mean_2y.append(second_mean[1])\n",
    "        #print (mean_1x[-1],mean_1y[-1],mean_2x[-1],mean_2y[-1])\n",
    "\n",
    "        calculate_pdf ()\n",
    "        expectation_step ()\n",
    "        maximize_step()\n",
    "        value_phi ()\n",
    "        index+=1\n",
    "        \n",
    "    number_iteration.append(index)"
   ]
  },
  {
   "cell_type": "markdown",
   "metadata": {},
   "source": [
    "Plot the trajectories of two mean vectors in 2 dimensions"
   ]
  },
  {
   "cell_type": "code",
   "execution_count": 26,
   "metadata": {},
   "outputs": [
    {
     "data": {
      "image/png": "[encoded data removed]",
      "text/plain": [
       "<matplotlib.figure.Figure at 0x113705a20>"
      ]
     },
     "metadata": {},
     "output_type": "display_data"
    }
   ],
   "source": [
    "plt.scatter(norm_waiting, norm_eruptions, color='silver')\n",
    "plt.plot(mean_1x, mean_1y, color='r')\n",
    "plt.plot(mean_2x, mean_2y, color='b')\n",
    "plt.show()\n"
   ]
  },
  {
   "cell_type": "code",
   "execution_count": 24,
   "metadata": {},
   "outputs": [
    {
     "name": "stdout",
     "output_type": "stream",
     "text": [
      "[10, 13, 14, 22, 21, 15, 24, 10, 13, 15, 10, 13, 12, 9, 10, 11, 14, 22, 13, 22, 24, 10, 49, 11, 17, 10, 20, 14, 18, 9, 36, 24, 12, 12, 9, 12, 15, 11, 38, 13, 41, 10, 14, 13, 14, 12, 35, 13, 9, 12]\n"
     ]
    }
   ],
   "source": [
    "number_iteration = []\n",
    "for i in range(50):\n",
    "    run_GMM (1)\n",
    "    #print (number_iteration)\n",
    "print (number_iteration)"
   ]
  },
  {
   "cell_type": "code",
   "execution_count": 25,
   "metadata": {},
   "outputs": [
    {
     "data": {
      "image/png": "[encoded data removed]",
      "text/plain": [
       "<matplotlib.figure.Figure at 0x113598898>"
      ]
     },
     "metadata": {},
     "output_type": "display_data"
    }
   ],
   "source": [
    "#distribution\n",
    "plt.hist(number_iteration)\n",
    "plt.xlabel(\"Number of iteration\")\n",
    "plt.show()"
   ]
  },
  {
   "cell_type": "markdown",
   "metadata": {},
   "source": [
    "K-means clustering"
   ]
  },
  {
   "cell_type": "code",
   "execution_count": 37,
   "metadata": {},
   "outputs": [
    {
     "data": {
      "image/png": "[encoded data removed]",
      "text/plain": [
       "<matplotlib.figure.Figure at 0x113389358>"
      ]
     },
     "metadata": {},
     "output_type": "display_data"
    },
    {
     "name": "stdout",
     "output_type": "stream",
     "text": [
      "[0 1 0 1 0 1 0 0 1 0 1 0 0 1 0 1 1 0 1 0 1 1 0 1 0 0 1 0 0 0 0 0 0 0 0 1 1\n",
      " 0 1 0 0 1 0 1 0 0 0 1 0 1 0 0 1 0 1 0 0 1 0 0 1 0 1 0 1 0 0 0 1 0 0 1 0 0\n",
      " 1 0 1 0 0 0 0 0 0 1 0 0 0 0 1 0 1 0 1 0 1 0 0 0 1 0 1 0 1 0 0 1 0 1 0 0 0\n",
      " 1 0 0 1 0 1 0 1 0 1 0 0 1 0 0 1 0 1 0 1 0 1 0 1 0 1 0 1 0 0 1 0 0 0 1 0 1\n",
      " 0 1 0 0 1 0 0 0 0 0 1 0 1 0 1 0 0 0 1 0 1 0 1 1 0 0 0 0 0 1 0 0 1 0 0 0 1\n",
      " 0 0 1 0 1 0 1 0 0 0 0 0 0 1 0 1 0 0 1 0 1 0 0 1 0 1 0 1 0 0 0 1 0 1 0 1 0\n",
      " 1 0 0 0 0 0 0 0 0 1 0 1 0 1 1 0 0 1 0 1 0 1 0 0 1 0 1 0 1 0 0 0 0 0 0 0 1\n",
      " 0 0 0 1 0 1 1 0 0 1 0 1 0]\n"
     ]
    }
   ],
   "source": []
  },
  {
   "cell_type": "markdown",
   "metadata": {},
   "source": [
    "mean and covariance matrices using maximumlikelihood"
   ]
  },
  {
   "cell_type": "code",
   "execution_count": 44,
   "metadata": {},
   "outputs": [],
   "source": [
    "obs_1= []\n",
    "obs_2= []\n",
    "\n",
    "def kmean_init ():\n",
    "    global first_mean, second_mean, first_cov, second_cov, phi, mean_1x, mean_1y,mean_2x, mean_2y,index_1, index_2\n",
    "\n",
    "    kmeans = KMeans(n_clusters=2)\n",
    "    kmeans.fit(matrix)\n",
    "    y_kmeans = kmeans.predict(matrix)\n",
    "#    plt.scatter(matrix[:, 0], matrix[:, 1], c=y_kmeans, cmap='viridis')\n",
    "    centers = kmeans.cluster_centers_\n",
    "#     plt.scatter(centers[:, 0], centers[:, 1], c='black', alpha=0.5)\n",
    "#     plt.show()\n",
    "\n",
    "    \n",
    "    for i in range(len(y_kmeans)):\n",
    "        if y_kmeans[i] == 1:\n",
    "            obs_1.append(list(matrix[i]))\n",
    "        else:\n",
    "            obs_2.append(list(matrix[i]))\n",
    "\n",
    "    first_mean = np.mean(obs_1, axis=0)\n",
    "    second_mean = np.mean(obs_2, axis=0)\n",
    "\n",
    "    first_cov = np.cov(obs_1, rowvar = False)\n",
    "    second_cov = np.cov(obs_2, rowvar = False)\n",
    "\n",
    "    first_cov = np.mean(first_cov)*np.identity(2)\n",
    "    second_cov = np.mean(second_cov)*np.identity(2)\n",
    "\n",
    "    phi = random.random()\n",
    "    \n",
    "    mean_1x =[] \n",
    "    mean_1y =[] \n",
    "    mean_2x =[] \n",
    "    mean_2y =[] \n",
    "    \n",
    "    index_1 = 0\n",
    "    index_2 = 0"
   ]
  },
  {
   "cell_type": "code",
   "execution_count": null,
   "metadata": {
    "collapsed": true
   },
   "outputs": [],
   "source": [
    "\n",
    "\n",
    "    \n"
   ]
  }
 ],
 "metadata": {
  "kernelspec": {
   "display_name": "Python 3",
   "language": "python",
   "name": "python3"
  },
  "language_info": {
   "codemirror_mode": {
    "name": "ipython",
    "version": 3
   },
   "file_extension": ".py",
   "mimetype": "text/x-python",
   "name": "python",
   "nbconvert_exporter": "python",
   "pygments_lexer": "ipython3",
   "version": "3.6.1"
  }
 },
 "nbformat": 4,
 "nbformat_minor": 2
}
