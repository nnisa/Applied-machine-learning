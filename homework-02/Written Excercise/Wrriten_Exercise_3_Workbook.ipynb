{
 "cells": [
  {
   "cell_type": "code",
   "execution_count": 11,
   "metadata": {
    "collapsed": false
   },
   "outputs": [],
   "source": [
    "import numpy as np\n"
   ]
  },
  {
   "cell_type": "markdown",
   "metadata": {},
   "source": [
    "## b)"
   ]
  },
  {
   "cell_type": "code",
   "execution_count": 36,
   "metadata": {
    "collapsed": false
   },
   "outputs": [
    {
     "name": "stdout",
     "output_type": "stream",
     "text": [
      "[ 214.6704892   69.3295108]\n",
      "[ 214.6704892   69.3295108]\n",
      "[14.651637764976877, 8.3264344592330364]\n"
     ]
    }
   ],
   "source": [
    "matrix_A = np.matrix([[39, 57, 60], [57, 118, 53], [60, 53, 127]])\n",
    "matrix_B = np.matrix([[10, 9, 26, 3, 26], [9, 62, 8, -5, 85], [26, 8, 72, 10, 50], [3, -5, 10, 2, -1], [26, 85, 50, -1, 138]])\n",
    "\n",
    "eig_vals_A, eig_vecs_A = np.linalg.eig(matrix_A) \n",
    "eig_vals_B, eig_vecs_B = np.linalg.eig(matrix_B)\n",
    "\n",
    "# the numpy method returns values that are essentially Zero, so I am removing those from my\n",
    "# eigenvalue array as well as the corresponding eigenvectors\n",
    "eig_vals_A = np.take(eig_vals_A, [0,2])\n",
    "eig_vecs_A = eig_vecs_A[:, [0, 2]]\n",
    "\n",
    "eig_vals_B = np.take(eig_vals_B, [0, 2])\n",
    "eig_vecs_B = eig_vecs_B[:, [0, 2]]\n",
    "\n",
    "singulars = []\n",
    "singulars.append(np.sqrt(eig_vals_A[0]))\n",
    "singulars.append(np.sqrt(eig_vals_A[1]))\n",
    "                     \n",
    "\n",
    "print eig_vals_A\n",
    "print eig_vals_B\n"
   ]
  },
  {
   "cell_type": "markdown",
   "metadata": {},
   "source": [
    "## c)"
   ]
  },
  {
   "cell_type": "code",
   "execution_count": 33,
   "metadata": {
    "collapsed": false
   },
   "outputs": [
    {
     "name": "stdout",
     "output_type": "stream",
     "text": [
      "Eigenvectors for Matrix A (M*M):\n",
      "[[ 0.42615127]\n",
      " [ 0.61500884]\n",
      " [ 0.66344497]]\n",
      "..............\n",
      "[[-0.01460404]\n",
      " [-0.72859799]\n",
      " [ 0.68478587]]\n",
      "Eigenvectors for Matrix A (MM*):\n",
      "[[-0.16492942]\n",
      " [-0.47164732]\n",
      " [-0.33647055]\n",
      " [-0.00330585]\n",
      " [-0.79820031]]\n",
      "..............\n",
      "[[ 0.24497323]\n",
      " [-0.45330644]\n",
      " [ 0.82943965]\n",
      " [ 0.16974659]\n",
      " [-0.13310656]]\n"
     ]
    }
   ],
   "source": [
    "# FROM THE NUMPY DOCS:\n",
    "#The normalized (unit \"length\") eigenvectors, such that the\n",
    "#   column ``v[:,i]`` is the eigenvector corresponding to the\n",
    "#    eigenvalue ``w[i]``.\n",
    "print \"Eigenvectors for Matrix A (M*M):\"\n",
    "print eig_vecs_A[:, 0]\n",
    "print \"..............\"\n",
    "print eig_vecs_A[:, 1]\n",
    "\n",
    "print \"Eigenvectors for Matrix A (MM*):\"\n",
    "print eig_vecs_B[:, 0]\n",
    "print \"..............\"\n",
    "print eig_vecs_B[:, 1]"
   ]
  },
  {
   "cell_type": "code",
   "execution_count": null,
   "metadata": {
    "collapsed": false
   },
   "outputs": [],
   "source": []
  },
  {
   "cell_type": "markdown",
   "metadata": {},
   "source": [
    "## d)"
   ]
  },
  {
   "cell_type": "code",
   "execution_count": 41,
   "metadata": {
    "collapsed": false
   },
   "outputs": [
    {
     "name": "stdout",
     "output_type": "stream",
     "text": [
      "U = \n",
      "[[-0.16492942  0.24497323]\n",
      " [-0.47164732 -0.45330644]\n",
      " [-0.33647055  0.82943965]\n",
      " [-0.00330585  0.16974659]\n",
      " [-0.79820031 -0.13310656]]\n",
      ".......\n",
      "Σ = \n",
      "[[ 14.65163776   0.        ]\n",
      " [  0.           0.        ]]\n",
      ".......\n",
      "V* = \n",
      "[[ 0.42615127  0.61500884  0.66344497]\n",
      " [-0.01460404 -0.72859799  0.68478587]]\n"
     ]
    }
   ],
   "source": [
    "print \"U = \" \n",
    "print eig_vecs_B\n",
    "print \".......\"\n",
    "\n",
    "\n",
    "print \"Σ = \"\n",
    "print np.diag(singulars)\n",
    "print \".......\"\n",
    "print \"V* = \"\n",
    "print eig_vecs_A.transpose()"
   ]
  },
  {
   "cell_type": "markdown",
   "metadata": {},
   "source": [
    "## e)"
   ]
  },
  {
   "cell_type": "code",
   "execution_count": 43,
   "metadata": {
    "collapsed": false
   },
   "outputs": [
    {
     "name": "stdout",
     "output_type": "stream",
     "text": [
      "[[-1.02978864 -1.48616035 -1.60320558]\n",
      " [-2.94487812 -4.24996055 -4.58467382]\n",
      " [-2.10085952 -3.031898   -3.27068057]\n",
      " [-0.02064112 -0.02978864 -0.0321347 ]\n",
      " [-4.9838143  -7.19249261 -7.75895028]]\n"
     ]
    }
   ],
   "source": [
    "singulars_copy = singulars\n",
    "\n",
    "singulars_copy[1] = 0\n",
    "\n",
    "one_d_approx = np.dot(eig_vecs_B, np.dot(np.diag(singulars_copy), eig_vecs_A.transpose()))\n",
    "\n",
    "print one_d_approx "
   ]
  },
  {
   "cell_type": "code",
   "execution_count": null,
   "metadata": {
    "collapsed": true
   },
   "outputs": [],
   "source": []
  }
 ],
 "metadata": {
  "kernelspec": {
   "display_name": "Python 2",
   "language": "python",
   "name": "python2"
  },
  "language_info": {
   "codemirror_mode": {
    "name": "ipython",
    "version": 2
   },
   "file_extension": ".py",
   "mimetype": "text/x-python",
   "name": "python",
   "nbconvert_exporter": "python",
   "pygments_lexer": "ipython2",
   "version": "2.7.13"
  }
 },
 "nbformat": 4,
 "nbformat_minor": 2
}
