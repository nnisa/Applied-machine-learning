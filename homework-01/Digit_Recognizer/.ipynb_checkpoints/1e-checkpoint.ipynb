{
 "cells": [
  {
   "cell_type": "code",
   "execution_count": 37,
   "metadata": {
    "scrolled": true
   },
   "outputs": [],
   "source": [
    "%matplotlib inline\n",
    "import numpy as np\n",
    "import pandas as pd\n",
    "import scipy.misc as smp\n",
    "import scipy.spatial.distance as dist\n",
    "import matplotlib.pyplot as plt\n",
    "\n",
    "trainingData = pd.read_csv('train.csv')"
   ]
  },
  {
   "cell_type": "code",
   "execution_count": 40,
   "metadata": {},
   "outputs": [],
   "source": [
    "#1(e)\n",
    "genuineMatches = []\n",
    "impostorMatches = []\n",
    "\n",
    "onlyOnesAndZeroes = trainingData[(trainingData['label'] == 0) | (trainingData['label'] == 1)]\n",
    "\n",
    "for FirstIndex, data in enumerate(onlyOnesAndZeroes):\n",
    "    for SecondIndex, secondData in enumerate(onlyOnesAndZeroes):\n",
    "        distance = dist.euclidean(onlyOnesAndZeroes.iloc[FirstIndex], onlyOnesAndZeroes.iloc[SecondIndex])\n",
    "\n",
    "        if onlyOnesAndZeroes.iloc[FirstIndex].label == 0 and onlyOnesAndZeroes.iloc[SecondIndex].label == 0:\n",
    "            genuineMatches.append(distance)   \n",
    "        if onlyOnesAndZeroes.iloc[FirstIndex].label == 1 and onlyOnesAndZeroes.iloc[SecondIndex].label == 1:\n",
    "            genuineMatches.append(distance)  \n",
    "        if onlyOnesAndZeroes.iloc[FirstIndex].label == 1 and onlyOnesAndZeroes.iloc[SecondIndex].label == 0:\n",
    "            impostorMatches.append(distance)\n",
    "        if onlyOnesAndZeroes.iloc[FirstIndex].label == 0 and onlyOnesAndZeroes.iloc[SecondIndex].label == 1:\n",
    "            impostorMatches.append(distance)"
   ]
  },
  {
   "cell_type": "code",
   "execution_count": 41,
   "metadata": {},
   "outputs": [
    {
     "data": {
      "image/png": "[encoded data removed]",
      "text/plain": [
       "<matplotlib.figure.Figure at 0x1a3c1cdd8>"
      ]
     },
     "metadata": {},
     "output_type": "display_data"
    }
   ],
   "source": [
    "bins = np.linspace(500, 4500, 100)\n",
    "plt.hist(genuineMatches, bins, alpha=0.5, label='genuines')\n",
    "plt.hist(impostorMatches, bins, alpha=0.5, label='impostors')\n",
    "plt.legend(loc='upper right')\n",
    "plt.show()"
   ]
  },
  {
   "cell_type": "code",
   "execution_count": null,
   "metadata": {
    "collapsed": true
   },
   "outputs": [],
   "source": [
    "#1(f)\n",
    "def truePosFalsePosRates(threshold):\n",
    "    truePos=0\n",
    "    flaseNeg=0\n",
    "    falsePos=0\n",
    "    trueNeg=0\n",
    "    \n",
    "    for i in genuineMatches:\n",
    "        if i < threshold:\n",
    "            truePos=truePos++\n",
    "        else:\n",
    "            flaseNeg=flaseNeg++\n",
    "\n",
    "    for i in impostor:\n",
    "        if i < threshold:\n",
    "            falsePos=falsePos++\n",
    "        else:\n",
    "            trueNeg=trueNeg++\n",
    "            \n",
    "    falsePosRate=(falsePos)/(falsePos+trueNeg)\n",
    "    truePosRate=(truePos)/(truePos+flaseNeg)\n",
    "    return truePosRate,falsePosRate\n",
    "\n",
    "x=[]\n",
    "y=[]\n",
    "for i in range(0,3995,50):\n",
    "    truePosRate,falsePosRate = truePosFalsePosRates(i)\n",
    "    x.append(falsePosRate)\n",
    "    y.append(truePosRate)\n",
    "    \n",
    "plt.plot(x,y)\n",
    "plt.ylabel('True Positive Rate')\n",
    "plt.xlabel('False Positive Rate')\n",
    "plt.show()"
   ]
  }
 ],
 "metadata": {
  "kernelspec": {
   "display_name": "Python 3",
   "language": "python",
   "name": "python3"
  },
  "language_info": {
   "codemirror_mode": {
    "name": "ipython",
    "version": 3
   },
   "file_extension": ".py",
   "mimetype": "text/x-python",
   "name": "python",
   "nbconvert_exporter": "python",
   "pygments_lexer": "ipython3",
   "version": "3.6.1"
  }
 },
 "nbformat": 4,
 "nbformat_minor": 2
}
